{
 "cells": [
  {
   "cell_type": "markdown",
   "metadata": {},
   "source": [
    "# Zahara Vazir - 18417696 \n",
    "# Data Science in Python Assignment 2 "
   ]
  },
  {
   "cell_type": "markdown",
   "metadata": {},
   "source": [
    "### For this assignment the three countries I have chosen to analyse are Ireland, New Zealand and Denmark. "
   ]
  },
  {
   "cell_type": "markdown",
   "metadata": {},
   "source": [
    "## Task 1"
   ]
  },
  {
   "cell_type": "code",
   "execution_count": null,
   "metadata": {},
   "outputs": [],
   "source": [
    "import pandas as pd\n",
    "import datetime \n",
    "import matplotlib.pyplot as plt\n",
    "%matplotlib inline \n",
    "import seaborn as sns \n",
    "import numpy as np"
   ]
  },
  {
   "cell_type": "markdown",
   "metadata": {},
   "source": [
    "### Ireland "
   ]
  },
  {
   "cell_type": "code",
   "execution_count": null,
   "metadata": {},
   "outputs": [],
   "source": [
    "df_ireland = pd.read_csv(\"http://mlg.ucd.ie/modules/COMP30760/data/ireland.csv\", index_col='date', parse_dates =True) #reading in csv file and making 'date' the index column\n",
    "df_ireland  "
   ]
  },
  {
   "cell_type": "code",
   "execution_count": null,
   "metadata": {},
   "outputs": [],
   "source": [
    "df_ireland = df_ireland.drop(['id', 'country'], axis=1) #removing the columns id and country \n",
    "df_ireland "
   ]
  },
  {
   "cell_type": "code",
   "execution_count": null,
   "metadata": {},
   "outputs": [],
   "source": [
    "df_ireland = df_ireland.rename(columns={'retail_and_recreation_percent_change_from_baseline': 'retail_&_recreation'}) ##renaming the columsn \n",
    "df_ireland = df_ireland.rename(columns={'grocery_and_pharmacy_percent_change_from_baseline': 'grocery_&_pharmacy'})\n",
    "df_ireland = df_ireland.rename(columns={'parks_percent_change_from_baseline': 'parks'})\n",
    "df_ireland = df_ireland.rename(columns={'transit_stations_percent_change_from_baseline': 'transit_stations'})\n",
    "df_ireland = df_ireland.rename(columns={'workplaces_percent_change_from_baseline': 'workplaces'})\n",
    "df_ireland = df_ireland.rename(columns={'residential_percent_change_from_baseline': 'residential'})\n",
    "df_ireland "
   ]
  },
  {
   "cell_type": "markdown",
   "metadata": {},
   "source": [
    "### Graph representing the raw data for Ireland"
   ]
  },
  {
   "cell_type": "code",
   "execution_count": null,
   "metadata": {},
   "outputs": [],
   "source": [
    "a = df_ireland[[\"retail_&_recreation\", \"grocery_&_pharmacy\", \"parks\", \"transit_stations\", \"workplaces\", \"residential\"]] \n",
    "p = a.plot(figsize=(12, 5), fontsize=13)\n",
    "p.set_xlabel(\"Date\",fontsize=13)\n",
    "p.set_ylabel(\"% Change from Baseline\",fontsize=13)\n",
    "p.set_title(\"Movement Trends\")"
   ]
  },
  {
   "cell_type": "markdown",
   "metadata": {},
   "source": [
    "This graphs illustrates the movement trands in Ireland for all the different categories. The data has not been smoothed out yet. "
   ]
  },
  {
   "cell_type": "markdown",
   "metadata": {},
   "source": [
    "### I'm analysing all the different categories. I smoothed out the data, by gettting the 7 day rolling mean and the 14 day rolling mean and graphed them with the raw data for that particular category as well. "
   ]
  },
  {
   "cell_type": "code",
   "execution_count": null,
   "metadata": {
    "scrolled": true
   },
   "outputs": [],
   "source": [
    "rm1 = df_ireland[\"retail_&_recreation\"].rolling(7).mean() ##7 day rolling mean to smooth the data \n",
    "rm2 = df_ireland[\"retail_&_recreation\"].rolling(14).mean() ##14 day rolling mean to smooth the data \n",
    "raw_data = df_ireland[\"retail_&_recreation\"] ##raw data \n",
    "a = rm1.plot(figsize=(12,5),fontsize = 13, color = \"darkturquoise\")\n",
    "b = rm2.plot(figsize=(12,5),fontsize = 13, color = \"palegreen\")\n",
    "c = raw_data.plot(figsize=(12,5),fontsize = 13, color = \"lightpink\")\n",
    "a.set_xlabel(\"Date\", fontsize =13) #x label \n",
    "a.set_ylabel(\"% Change from Baseline - Retail and Recreation\", fontsize = 13) ##y label\n",
    "a.set_title(\"Retail and Recreation Movement Trends\") ##title \n",
    "a.legend([\"7 Day Average\", \"14 Day Average\", \"Raw Data\"]) ##legend "
   ]
  },
  {
   "cell_type": "markdown",
   "metadata": {},
   "source": [
    "This above time series describes the movement trends in retail and recreation places in Ireland from March, when covid was first seen in Ireland. This would include restaurants, cinemas, theatres etc. As we an see from the graph, at the start of March, before there was a full lockdown in the country, retail and recreational places were busy as normal. Even though there were covid cases in Ireland at that time, people were still out, continuing on with their daily lives. Full lockdown of the country commenced on March 27th. This included all unessential retail places to close, which included shopping centres, cinemas and restaurants were only open to provide takeaway service. This is evident from the graph above as we can see a dramtic decrease in the footfall of retail and recreational places from March until April. The mobility in these places dropped by nearly 80% as these places were closed due to lockdown and so people couldn't go there. The lowest the mobility of these places had fallen to was to about 83% and this occurred near the end of April. People had no reason to leave their homes unless it was for an essential journey or to exercise. This first lockdown ended on the 18th of May. We can see the gradual increase in the mobility of retail and recreational places in Ireland. It was a consistent increase between the months of May until September, which can be seen from the graphs. This is because retail and recreational places in Ireland started to slowly open up to th public, following the governemnt's guidelines. We can see from the graph, after the nationwide lockdwon, the country's footfall in these places never went back to normal. It only increased by around 60%, which meant it was still around 20% below the baseline, whihc was would have been the norm for the country before the period of covid19. It is illustrated from the grpah that near the end of September, the footfall in these places began to decrease slowly due to the increasing number of covid cases, and my mid October, there was a dramatic decrease by round 15% as the country went back into lockdown around this time.   "
   ]
  },
  {
   "cell_type": "code",
   "execution_count": null,
   "metadata": {},
   "outputs": [],
   "source": [
    "rm1 = df_ireland[\"grocery_&_pharmacy\"].rolling(7).mean()\n",
    "rm2 = df_ireland[\"grocery_&_pharmacy\"].rolling(14).mean()\n",
    "raw_data = df_ireland[\"grocery_&_pharmacy\"]\n",
    "a = rm1.plot(figsize=(12,5),fontsize = 13, color = \"darkturquoise\")\n",
    "b = rm2.plot(figsize=(12,5),fontsize = 13, color = \"palegreen\")\n",
    "c = raw_data.plot(figsize=(12,5),fontsize = 13, color = \"lightpink\")\n",
    "a.set_xlabel(\"Date\", fontsize =13)\n",
    "a.set_ylabel(\"% Change from Baseline - Grocery and Pharmacy\", fontsize = 13)\n",
    "a.set_title(\"Grocery and Pharmacy Movement Trends\")\n",
    "a.legend([\"7 Day Average\", \"14 Day Average\", \"Raw Data\"])"
   ]
  },
  {
   "cell_type": "markdown",
   "metadata": {},
   "source": [
    "Grocery and pharmacies are essential businesses in Ireland, that were allowed to stay open during level 5 lockdown. From the grpah is it evident that from mid-March, there was an increase in the mobility in these places. This could have been due to people knowing that there would be a lockdown in the country, so they wanted to stock up on a few items, knowing well that they would be staying at home for a while. There was an increase in the mobility by around 8% in pharmacies and grocery shops during this time. Shortly after this, we saw a sharp decrease by 13%, during the time the full lockdown had happened in the country.This meant that less people were going to these places, as people were not leaving their homes unless it was an essential journey. We can see around early march there was a rise in the mobility in these places by around 7% , which then caused a decrease soon afterwards. The mobility of these places was at its lowest during the middle of April. This was the lowest it had ever been this year. This could have been becuase, people could ahve been ordering their groceries online, saving them leaving the house. There was a decrease by 27% compared to normal, as this was the period of level 5 lockdown in Ireland. After the middle of April, there was a slow rise in the mobility patters of these places. The rise was steady and inconsistent after April. By around mid June, the footfall in these essential businesses was back to normal, it did however fluctuate and was unstable until October. We can see that when the second lockdwon was to take place in the country on the 21st of October, there was than a decrease in the mobility in these places again. Comparing this mobility graph to the one about retail and recreation, the decrease in mobilty in pharmacies and gorcery shops was far lower compared to retail and recreational places, as groceries and pharmacies were allowed to stay open during the lockdown as they were essential businesses.  "
   ]
  },
  {
   "cell_type": "code",
   "execution_count": null,
   "metadata": {},
   "outputs": [],
   "source": [
    "rm1 = df_ireland[\"parks\"].rolling(7).mean()\n",
    "rm2 = df_ireland[\"parks\"].rolling(14).mean()\n",
    "raw_data = df_ireland[\"parks\"]\n",
    "a = rm1.plot(figsize=(12,5),fontsize = 13, color = \"darkturquoise\")\n",
    "b = rm2.plot(figsize=(12,5),fontsize = 13, color = \"palegreen\")\n",
    "c = raw_data.plot(figsize=(12,5),fontsize = 13, color = \"lightpink\")\n",
    "a.set_xlabel(\"Date\", fontsize =13)\n",
    "a.set_ylabel(\"% Change from Baseline - Parks\", fontsize = 13)\n",
    "a.set_title(\"Parks Movement Trends\")\n",
    "a.legend([\"7 Day Average\", \"14 Day Average\", \"Raw Data\"])"
   ]
  },
  {
   "cell_type": "markdown",
   "metadata": {},
   "source": [
    "This time series graph describes the mobilty patterns of parks in Ireland. The graph is quite inconsistent. As we can see in mid-March, there was an increase in the mobilty patterns in parks. But shortly afterwards when the country went into lockdown, the footfall in parks decreased by 58% in April. It is obvious from the graph that the mobility in in parks fluctuatued a lot and was never substantial during any month. Duing the period of locdown in Ireland, we can see that in April, was an increase in the footfall. This is due to people being allowed to exercise and go for walks in their local parks. In August, we can see that the mobility in parks reached above 100% above the baseline. This meant that there was a 100% increase in the number of people who were visiting parks as compared to normal. The reason for this could be that people were avoiding indoor areas to meet up with people, and perferred socially distant meetups outdoors. This was when parks in Ireland were at its peak, and form the gragh it is evident that a lot of people were visiting in August. It was also the summer time during this month, so people wanted to be outside more. After August, there was a slight decrease in the number of people going to parks. This decline was more than 60%, and after this period, the number of people visiting parks was erratic. After mid September, the mobility in parks again began to decrease, and was continuing to decrease in the month of Ocotober as well. From the mobility graphs we were analysing before, none of the graphs reached a 100% increase from baseline in the mobilty in those places. Only the time series for parks showed this. "
   ]
  },
  {
   "cell_type": "code",
   "execution_count": null,
   "metadata": {},
   "outputs": [],
   "source": [
    "rm1 = df_ireland[\"transit_stations\"].rolling(7).mean()\n",
    "rm2 = df_ireland[\"transit_stations\"].rolling(14).mean()\n",
    "raw_data = df_ireland[\"transit_stations\"]\n",
    "a = rm1.plot(figsize=(12,5),fontsize = 13, color = \"darkturquoise\")\n",
    "b = rm2.plot(figsize=(12,5),fontsize = 13, color = \"palegreen\")\n",
    "c = raw_data.plot(figsize=(12,5),fontsize = 13, color = \"lightpink\")\n",
    "a.set_xlabel(\"Date\", fontsize =13)\n",
    "a.set_ylabel(\"% Change from Baseline - Transit Stations\", fontsize = 13)\n",
    "a.set_title(\"Transit Stations Movement Trends\")\n",
    "a.legend([\"7 Day Average\", \"14 Day Average\", \"Raw Data\"])"
   ]
  },
  {
   "cell_type": "markdown",
   "metadata": {},
   "source": [
    "From the time series above, it is obvious that from March, the number of people at train stations, taxi ranks was decreasing quickly. This was due to the lockdown in the country at the end of March. The number of people travelling to work had decreased dramatically as most of the working population in Ireland were working from home. Essential workers, such as health care wokers were the people who were allowed to travel to work and other people who worked at essential buinesses, such as resturants, grocery shops and pharmacies. Schools and Univeristies in Ireland also closed during the lockdown and so this is another reason for the decrease in mobility at transit stations in Ireland. there was a decrease of more than 70% in the mobilty at these places as compared to normal. We can see that after the middle of April, the mobilty started to increase moderatly until September where it began to decline again. From the months April to September, the mobilty at transit stations was still below normal. It was around 30% below basline. This is because, people were trying to avoid having to take public transport and also the capacity of buses and trains was reduced in order to follow social distancing guidelines. During the month of October, the mobilty at transit stations commenced to decrease again due to the second lockdown in the country as a reuslt of the high casses. "
   ]
  },
  {
   "cell_type": "code",
   "execution_count": null,
   "metadata": {},
   "outputs": [],
   "source": [
    "rm1 = df_ireland[\"workplaces\"].rolling(7).mean()\n",
    "rm2 = df_ireland[\"workplaces\"].rolling(14).mean()\n",
    "raw_data = df_ireland[\"workplaces\"]\n",
    "a = rm1.plot(figsize=(12,5),fontsize = 13, color = \"darkturquoise\")\n",
    "b = rm2.plot(figsize=(12,5),fontsize = 13, color = \"palegreen\")\n",
    "c = raw_data.plot(figsize=(12,5),fontsize = 13, color = \"lightpink\")\n",
    "a.set_xlabel(\"Date\", fontsize =13)\n",
    "a.set_ylabel(\"% Change from Baseline - Workplaces\", fontsize = 13)\n",
    "a.set_title(\"Workplaces Movement Trends\")\n",
    "a.legend([\"7 Day Average\", \"14 Day Average\", \"Raw Data\"])"
   ]
  },
  {
   "cell_type": "markdown",
   "metadata": {},
   "source": [
    "The time series above decribes the workplace movement trend. During the first lockdown in the country, people who were not healthcare workers were advised to work from home as much as possible. If you worked at an essential business such as grocery shops, you were also allowed to travel to work. As a result of this, we can see the decline in the mobility in workplace enviornments, as most people in the country were working from home wehere possible. We can see that there is nearly a 70% decrease in the movement trend at workplaces as compared to normal. When lockdown was over in May, the mobility at workplaces began to increase, as shops began to open and so staff were called back in to work after the lockdown. It is also clear that the mobility in the working envionments never went back to normal, as it was still 20% below normal in Ocotber. This was the highest it had been since the lockdown in March. There was still a decrease as people who worked office jobs remained at home and worked from home when the could. They rarely went to the offices. We can see that in October, there was a decrease again in the mobility at these places, as due to the second lockdwon taking place, non essential budinesses were closed. "
   ]
  },
  {
   "cell_type": "code",
   "execution_count": null,
   "metadata": {
    "scrolled": true
   },
   "outputs": [],
   "source": [
    "rm1 = df_ireland[\"residential\"].rolling(7).mean()\n",
    "rm2 = df_ireland[\"residential\"].rolling(14).mean()\n",
    "raw_data = df_ireland[\"residential\"]\n",
    "a = rm1.plot(figsize=(12,5),fontsize = 13, color = \"darkturquoise\")\n",
    "b = rm2.plot(figsize=(12,5),fontsize = 13, color = \"palegreen\")\n",
    "c = raw_data.plot(figsize=(12,5),fontsize = 13, color = \"lightpink\")\n",
    "a.set_xlabel(\"Date\", fontsize =13)\n",
    "a.set_ylabel(\"% Change from Baseline - Residential\", fontsize = 13)\n",
    "a.set_title(\"Residential Movement Trends\")\n",
    "a.legend([\"7 Day Average\", \"14 Day Average\", \"Raw Data\"])"
   ]
  },
  {
   "cell_type": "markdown",
   "metadata": {},
   "source": [
    "This time series describes the residential mobility in Ireland. It is apprent that when lockdwon occurred in March, the number of poople staying at home rose. There was an increase of more than 25% during the period of locdown in Ireland of people that were staying at home compared to normal. This is becuase people had to limit there time outdoors and could only go on essential journeys or for exercise. Healthcare workers were allowed to go to work as well as people who worked at essential businesses, but the rest of the country were told to stay home. There were also garda checkpoints in the country ensuring people were only making essential trips. After lockdwon we can see that the mobility in residential places ws gradually decreasing as shops began to open and poeple were called back to work. People were going out and trying to continue on with their normal lives. During September the mobility of residenital places was at its lowest since the first lockdwon. The mobility was only about 5% more than the baseline. This indicated that less people were spending time at home. After this period in Septerber, the time series shows how the mobility of residetial places began to increase again due to the growing number of cases in Ireland. This growth continued on in the month of October as well. "
   ]
  },
  {
   "cell_type": "markdown",
   "metadata": {},
   "source": [
    "### This graph describes the movement trends for all the categories for Ireland. I smoothed out the data by getting the 7 day rolling mean to make it look clear. "
   ]
  },
  {
   "cell_type": "code",
   "execution_count": null,
   "metadata": {},
   "outputs": [],
   "source": [
    "rm = df_ireland[[\"retail_&_recreation\", \"grocery_&_pharmacy\", \"parks\", \"transit_stations\", \"workplaces\", \"residential\"]].rolling(7).mean()  \n",
    "p = rm.plot(figsize=(12, 5), fontsize=13)\n",
    "p.set_xlabel(\"Date\",fontsize=13)\n",
    "p.set_ylabel(\"% Change from Baseline\",fontsize=13)\n",
    "p.set_title(\"Movement Trends\")"
   ]
  },
  {
   "cell_type": "markdown",
   "metadata": {},
   "source": [
    "### This graph represents the movement trends for all the categories for Ireland. I smoothed out the data by getting the 14 day rolling mean to make it look clear. "
   ]
  },
  {
   "cell_type": "code",
   "execution_count": null,
   "metadata": {},
   "outputs": [],
   "source": [
    "rm = df_ireland[[\"retail_&_recreation\", \"grocery_&_pharmacy\", \"parks\", \"transit_stations\", \"workplaces\", \"residential\"]].rolling(14).mean()  \n",
    "p = rm.plot(figsize=(12, 5), fontsize=13)\n",
    "p.set_xlabel(\"Date\",fontsize=13)\n",
    "p.set_ylabel(\"% Change from Baseline\",fontsize=13)\n",
    "p.set_title(\"Movement Trends\")"
   ]
  },
  {
   "cell_type": "markdown",
   "metadata": {},
   "source": [
    "The above line graph represents the mobility in all the the different places in Ireland. We can see at the time when lockdown was announced that retail and recreation, transit stations and workplaces all saw a decrease in their footfall due to people not going there as they were closed during this time. Looking at the graph, we can see that all three of these categories had very similar movement trends throughout the months. Retail and recreation had the lowest mov=bility out of all the palces. This happened in the month of April. While these three categories saw a decrease in theri footfall, we can see that the months, March until May, it is clear that residential areas had the highest mobility than all the categories during lockdown. The reason for this was that people were staying at home more often as shops, schools, offices were all closed, so people had no reason to be out. It is obvious that the footfall in grocery shops and pharmacies was also greater compared to workplaces, retail places and transit stations, due to them staying open during locdown as they were essential shops. The mobility in these places after lockdown was still quite high, as we can see that the line graph shows that it is close to the baseline, meaning that the footfall in these shops was nearly back to normal. Parks on the otherhand also saw quite a high mobility. During the time of lockdown, parks had the second highest mobility after residential. It then fluctuated quite a bit, but during the months of July, August, September, and the start of Ocotber, we can see tha the footfall in parks was th greatest out of all the places. This could have been due to people wanting to spend more time outdoors to ensure social distancing and contain the spread of the virus and it was also summer time. We can see in Ocotber, hoe residential had an increase in its footfall and ended up having the higest mobility again, as lockdown had been announced at this time and people were again not going to school or univeristy and were wokring from home when they could. We can also see how workplaces. retail and recreation and transit stations had a decrease in their mobility during the month of Ocotber.  "
   ]
  },
  {
   "cell_type": "markdown",
   "metadata": {},
   "source": [
    "### Heatmap to represent the correalation between all the different categories. "
   ]
  },
  {
   "cell_type": "code",
   "execution_count": null,
   "metadata": {},
   "outputs": [],
   "source": [
    "plt.rcParams['figure.figsize'] = (7,7) #creates a heatmap with a size of 7 by 7\n",
    "sns.heatmap(df_ireland[[\"retail_&_recreation\", \"grocery_&_pharmacy\", \"parks\", \"transit_stations\", \"workplaces\", \"residential\"]].corr(), annot = True, cmap =\"BuPu\") # will contain data of confirmed, deaths, recovered and current cases \n",
    "plt.title('Heatmap for Ireland')\n",
    "plt.show()"
   ]
  },
  {
   "cell_type": "code",
   "execution_count": null,
   "metadata": {},
   "outputs": [],
   "source": [
    "months = df_ireland[[\"retail_&_recreation\", \"grocery_&_pharmacy\", \"residential\"]].resample(\"M\").mean()\n",
    "a = months.plot(figsize=(12,5),fontsize = 13)"
   ]
  },
  {
   "cell_type": "markdown",
   "metadata": {},
   "source": [
    "This graph represents the three categories, retail and recreation, grocery and pharmacy and residential. I have used resampling, which is used to convert from day to month frequency. As expected, residential has the highest mobility in this graph thoughtout all the months. "
   ]
  },
  {
   "cell_type": "code",
   "execution_count": null,
   "metadata": {},
   "outputs": [],
   "source": [
    "months1 = df_ireland[[\"parks\", \"workplaces\", \"transit_stations\"]].resample(\"M\").mean()\n",
    "a = months1.plot(figsize=(12,5),fontsize = 13)"
   ]
  },
  {
   "cell_type": "markdown",
   "metadata": {},
   "source": [
    "This graph represents the three categories, parks, workplaces and transit stations. I have used resampling, which is used to convert from day to month frequency. It is interesting to see how workplaces and transit stations have a similar mobility here. "
   ]
  },
  {
   "cell_type": "markdown",
   "metadata": {},
   "source": [
    "### New Zealand "
   ]
  },
  {
   "cell_type": "code",
   "execution_count": null,
   "metadata": {},
   "outputs": [],
   "source": [
    "df_newzealand = pd.read_csv(\"http://mlg.ucd.ie/modules/COMP30760/data/new_zealand.csv\", index_col='date', parse_dates = True)\n",
    "df_newzealand"
   ]
  },
  {
   "cell_type": "code",
   "execution_count": null,
   "metadata": {},
   "outputs": [],
   "source": [
    "df_newzealand = df_newzealand.drop(['id', 'country'], axis=1)\n",
    "df_newzealand"
   ]
  },
  {
   "cell_type": "code",
   "execution_count": null,
   "metadata": {},
   "outputs": [],
   "source": [
    "df_newzealand = df_newzealand.rename(columns={'retail_and_recreation_percent_change_from_baseline': 'retail_&_recreation'})\n",
    "df_newzealand = df_newzealand.rename(columns={'grocery_and_pharmacy_percent_change_from_baseline': 'grocery_&_pharmacy'})\n",
    "df_newzealand = df_newzealand.rename(columns={'parks_percent_change_from_baseline': 'parks'})\n",
    "df_newzealand = df_newzealand.rename(columns={'transit_stations_percent_change_from_baseline': 'transit_stations'})\n",
    "df_newzealand = df_newzealand.rename(columns={'workplaces_percent_change_from_baseline': 'workplaces'})\n",
    "df_newzealand = df_newzealand.rename(columns={'residential_percent_change_from_baseline': 'residential'})\n",
    "df_newzealand"
   ]
  },
  {
   "cell_type": "markdown",
   "metadata": {},
   "source": [
    "### Graph representing the raw data for New Zealand"
   ]
  },
  {
   "cell_type": "code",
   "execution_count": null,
   "metadata": {},
   "outputs": [],
   "source": [
    "a = df_newzealand[[\"retail_&_recreation\", \"grocery_&_pharmacy\", \"parks\", \"transit_stations\", \"workplaces\", \"residential\"]]\n",
    "p = a.plot(figsize=(12, 5), fontsize=13)\n",
    "p.set_xlabel(\"Date\",fontsize=13)\n",
    "p.set_ylabel(\"% Change from Baseline\",fontsize=13)\n",
    "p.set_title(\"Movement Trends (Raw Data)\")"
   ]
  },
  {
   "cell_type": "markdown",
   "metadata": {},
   "source": [
    "### I'm analysing all the different categories. I smoothed out the data, by gettting the 7 day rolling mean and the 14 day rolling mean and graphed them with the raw data for that particular category as well. "
   ]
  },
  {
   "cell_type": "code",
   "execution_count": null,
   "metadata": {},
   "outputs": [],
   "source": [
    "rm1 = df_newzealand[\"retail_&_recreation\"].rolling(7).mean()\n",
    "rm2 = df_newzealand[\"retail_&_recreation\"].rolling(14).mean()\n",
    "raw_data = df_newzealand[\"retail_&_recreation\"]\n",
    "a = rm1.plot(figsize=(12,5),fontsize = 13, color = \"darkturquoise\")\n",
    "b = rm2.plot(figsize=(12,5),fontsize = 13, color = \"palegreen\")\n",
    "c = raw_data.plot(figsize=(12,5),fontsize = 13, color = \"lightpink\")\n",
    "a.set_xlabel(\"Date\", fontsize =13)\n",
    "a.set_ylabel(\"% Change from Baseline - Retail & Recreation\", fontsize = 13)\n",
    "a.set_title(\"Retail & Recreation Movement Trends\")\n",
    "a.legend([\"7 Day Average\", \"14 Day Average\", \"Raw Data\"])"
   ]
  },
  {
   "cell_type": "markdown",
   "metadata": {},
   "source": [
    "The above time series describes the mobility in retail and recreational places in New Zealand. As we can see from the graph, the footfall in these places decreased very quickly during the month of March. This is because level 4 lockdown in New Zealand commenced on the 25th of March. There was a learge decrease, of more than 80% from the baseline. This is a huge decrease due to a lot of non essential shops being closed. Other places where people would go for entertainment wasn't open for the public. Around the end of April, New Zeland went into level 3 lockdown. As we can see from the graph, the mobility in retail adn recreational places remains relatively the same throughtout April as nin-esential shops were instricted to reamin closed and also cinemas, libraries theatres etc were still closed as well. We can see at the end of April and near the start of May, theres in increase in the mobility of retail and recreational places here. This is due to the country going into level 2 lockdown and now allowing non essential shops to open back up. The movemment trends in these places increases greatly until the middle of August, where it rises by around 80% and it was nearly back to normal. It then started to decrease ever so slightly during the middle of August until Septermber where it began to rise again and the mobility in these places conintued to grow until October where it rose above the baseline. This meant that by October in New Zealand, things were going back to normal and people were carrying on with their normal lives. "
   ]
  },
  {
   "cell_type": "code",
   "execution_count": null,
   "metadata": {},
   "outputs": [],
   "source": [
    "rm1 = df_newzealand[\"grocery_&_pharmacy\"].rolling(7).mean()\n",
    "rm2 = df_newzealand[\"grocery_&_pharmacy\"].rolling(14).mean()\n",
    "raw_data = df_newzealand[\"grocery_&_pharmacy\"]\n",
    "a = rm1.plot(figsize=(12,5),fontsize = 13, color = \"darkturquoise\")\n",
    "b = rm2.plot(figsize=(12,5),fontsize = 13, color = \"palegreen\")\n",
    "c = raw_data.plot(figsize=(12,5),fontsize = 13, color = \"lightpink\")\n",
    "a.set_xlabel(\"Date\", fontsize =13)\n",
    "a.set_ylabel(\"% Change from Baseline - Grocery & Pharmacy\", fontsize = 13)\n",
    "a.set_title(\"Grocery & Pharmacy Movement Trends\")\n",
    "a.legend([\"7 Day Average\", \"14 Day Average\", \"Raw Data\"])"
   ]
  },
  {
   "cell_type": "markdown",
   "metadata": {},
   "source": [
    "This graph describes the mobility in grocery shops and pharmacies which were essential shops that remained open during the level 4 lockdown in New Zealand. As we can see from the graph, in the month of March there was a rise in the movement trends in these places by around 12%, and then a sharp decrease followed this until the start of the month of April. This occurred during the Level 4 lockdown that occurred in New Zealand. People were leaving their homes less during this time, which resulted in the decline in the mobility of these places. There was nearly a 50% decrease in the moblility in these essential shops. After the month of April, the mobility in grocery stores and in pharmacies fluctuated and during the middle of April, the mobility started to increase again. It increased quite rapidly until the middle of May, where it became a little steady afterwards. The mobility in these places increased by around 40% since the start of April. Again, during the middle of August, there was a slight decrease until September and afterwards the mobiltiy started to return back to normal. In October, the mobility in these places was a little unsteady and was around 5% from the baseline. "
   ]
  },
  {
   "cell_type": "code",
   "execution_count": null,
   "metadata": {},
   "outputs": [],
   "source": [
    "rm1 = df_newzealand[\"parks\"].rolling(7).mean()\n",
    "rm2 = df_newzealand[\"parks\"].rolling(14).mean()\n",
    "raw_data = df_newzealand[\"parks\"]\n",
    "a = rm1.plot(figsize=(12,5),fontsize = 13, color = \"darkturquoise\")\n",
    "b = rm2.plot(figsize=(12,5),fontsize = 13, color = \"palegreen\")\n",
    "c = raw_data.plot(figsize=(12,5),fontsize = 13, color = \"lightpink\")\n",
    "a.set_xlabel(\"Date\", fontsize =13)\n",
    "a.set_ylabel(\"% Change from Baseline - Parks\", fontsize = 13)\n",
    "a.set_title(\"Parks Movement Trends\")\n",
    "a.legend([\"7 Day Average\", \"14 Day Average\", \"Raw Data\"])"
   ]
  },
  {
   "cell_type": "markdown",
   "metadata": {},
   "source": [
    "During the month of march, when the lockdown first commenced in New Zealand, the mobility in parks decreased greatly by around 65%. This is a large decrease. This was due to people being less inclined to leave their homes. It increased ever so slightly in April when the country went into level 3 lockdown, but decreased again. During the middle of April The mobility in parks began to increase as the country then went into level 2 lockdown and a lot of the restrictions were eased. The movement trends for parks in New Zealand were quite uncertain and unpredictable as even though there were less restrictions after the month of May, the mobility in these places fluctuated a lot which showed that many people weren't going to parks in New Zealand. This could also be due to the cold weather in New Zealand as it was winter time in New Zeland from the months June until August. During the month of October, the mobility in the parks reached above the baseline, so it was back to normal, but this quickly changed again, as it  declined a little to 20% below basline and back up again. "
   ]
  },
  {
   "cell_type": "code",
   "execution_count": null,
   "metadata": {},
   "outputs": [],
   "source": [
    "rm1 = df_newzealand[\"transit_stations\"].rolling(7).mean()\n",
    "rm2 = df_newzealand[\"transit_stations\"].rolling(14).mean()\n",
    "raw_data = df_newzealand[\"transit_stations\"]\n",
    "a = rm1.plot(figsize=(12,5),fontsize = 13, color = \"darkturquoise\")\n",
    "b = rm2.plot(figsize=(12,5),fontsize = 13, color = \"palegreen\")\n",
    "c = raw_data.plot(figsize=(12,5),fontsize = 13, color = \"lightpink\")\n",
    "a.set_xlabel(\"Date\", fontsize =13)\n",
    "a.set_ylabel(\"% Change from Baseline - Transit Stations\", fontsize = 13)\n",
    "a.set_title(\"Transit Stations Movement Trends\")\n",
    "a.legend([\"7 Day Average\", \"14 Day Average\", \"Raw Data\"])"
   ]
  },
  {
   "cell_type": "markdown",
   "metadata": {},
   "source": [
    "This time series illustrates the transit stations of New Zealand. As we can see in March, the mobility at train stations, bus stops decreased significantly, by more than 80%. This was in relation to people staying at home and only making essential journeys when needed. A lot of the working popluation were working from home when they could, unless they were healthcare workers or worked at essential businesses. This was another reason why the mobility is so low in April. The majority of the country were staying at home to stop the spread of the virus. Educational facilities were also closed in New Zealand so students weren't travelling to school and were staying at home. Public transport would also only take a certain number of passengers on it, due to the virus and people were avoiding taking pubclic transport unless it was ncessary. We can see that in May, the mobility in these palces was starting to increase. This was the time when the country was moving from level 3 to level 2 lockdown. As more businesses and shops were opening back up and so more poeple were going to work, it is evident that more people were taking public transport at that time. The months from May until mid-August, the footfall in transit stations had inclined by around 60%. There was a slight decrease in the month of Augsut, but this quickly picked up during the months of September and October. In the month of October, even though the number of cases in New Zealand were very low, the mobility in transit stations was around 30% below baseline. This meant that precautions are still been taken place in New Zealand and people are working from home where they still can. This could be why the mobility in transit stations is below normal. "
   ]
  },
  {
   "cell_type": "code",
   "execution_count": null,
   "metadata": {},
   "outputs": [],
   "source": [
    "rm1 = df_newzealand[\"workplaces\"].rolling(7).mean()\n",
    "rm2 = df_newzealand[\"workplaces\"].rolling(14).mean()\n",
    "raw_data = df_newzealand[\"workplaces\"]\n",
    "a = rm1.plot(figsize=(12,5),fontsize = 13, color = \"darkturquoise\")\n",
    "b = rm2.plot(figsize=(12,5),fontsize = 13, color = \"palegreen\")\n",
    "c = raw_data.plot(figsize=(12,5),fontsize = 13, color = \"lightpink\")\n",
    "a.set_xlabel(\"Date\", fontsize =13)\n",
    "a.set_ylabel(\"% Change from Baseline - Workplaces\", fontsize = 13)\n",
    "a.set_title(\"Workplaces Movement Trends\")\n",
    "a.legend([\"7 Day Average\", \"14 Day Average\", \"Raw Data\"])"
   ]
  },
  {
   "cell_type": "markdown",
   "metadata": {},
   "source": [
    "The next time series represents the mobility in workplaces in New Zealand. As we can see the footfall in working enviornments in this country was quite high during the month of March, it was nearly 20% above the baseline. It is evident that when lockdown took place in New Zealand in late March, that the mobility in workplaces decreased rapidly and it was at its lowest in the month of April, at around 70% below the baseline. During the level 4 lockdown, only essential workers were allowed to go to work. This included healthcare workers and people who worked at essential businesses or services. The rest of the working class were advised to stay at home and work from home. When the country started to lift restrictions at the end of April and again in May, people who worked in the retail sector were allowed to go back to work. As a result, the mobility in the workplaces in the country was increasing. It did however fluctuate a bit from June until Ocotber and it didnt stay consistent, but the mobility in these places had increased significatly and was back to normal during certain periods during the month as it had reached the basline. The mobility hasn't been the same as March tho as this could mean that some people are still working from home. "
   ]
  },
  {
   "cell_type": "code",
   "execution_count": null,
   "metadata": {},
   "outputs": [],
   "source": [
    "rm1 = df_newzealand[\"residential\"].rolling(7).mean()\n",
    "rm2 = df_newzealand[\"residential\"].rolling(14).mean()\n",
    "raw_data = df_newzealand[\"residential\"]\n",
    "a = rm1.plot(figsize=(12,5),fontsize = 13, color = \"darkturquoise\")\n",
    "b = rm2.plot(figsize=(12,5),fontsize = 13, color = \"palegreen\")\n",
    "c = raw_data.plot(figsize=(12,5),fontsize = 13, color = \"lightpink\")\n",
    "a.set_xlabel(\"Date\", fontsize =13)\n",
    "a.set_ylabel(\"% Change from Baseline - Residential\", fontsize = 13)\n",
    "a.set_title(\"Residential Movement Trends\")\n",
    "a.legend([\"7 Day Average\", \"14 Day Average\", \"Raw Data\"])"
   ]
  },
  {
   "cell_type": "markdown",
   "metadata": {},
   "source": [
    "This above time series expresses the mobility in residential places in New Zealand. We can see that at the start of March, the mobility here was at 0. But at the end of March, when level 4 lockdown was announced, it is noticeable on the graph that the mobility increased instantly. This is beause more people were staying at home, they were wokring from home ost of the time and they could only go out for an essential jorney or to exercise. The mobility in residential areas inclined to more that 30% during the month of April. This was the highest the mobility had been during any month. Near the end of April, start of May, the mobility in residential areas started to decrease. This was because the country was starting to ease restrictions, and so more poeple could leave their homes to go to work, or to meet up with people and trying to continue with their daily lives but ensuring social distancing. The mobility decreased greatly until the month of August, where it increase slightly due to level 2 in some parts of the country and people staying at home. After that phase, the mobility in residential arease declined even more and it was the lowest it had been in October since April. the mobility in these places was around 2% more than normal. This could have been due to elderly people staying at home to ensure their safety against the virus. "
   ]
  },
  {
   "cell_type": "markdown",
   "metadata": {},
   "source": [
    "### This graph describes the movement trends for all the categories for New Zealand. I smoothed out the data by getting the 7 day rolling mean to make it look clear. "
   ]
  },
  {
   "cell_type": "code",
   "execution_count": null,
   "metadata": {},
   "outputs": [],
   "source": [
    "rm = df_ireland[[\"retail_&_recreation\", \"grocery_&_pharmacy\", \"parks\", \"transit_stations\", \"workplaces\", \"residential\"]].rolling(7).mean()  \n",
    "p = rm.plot(figsize=(12, 5), fontsize=13)\n",
    "p.set_xlabel(\"Date\",fontsize=13)\n",
    "p.set_ylabel(\"% Change from Baseline\",fontsize=13)\n",
    "p.set_title(\"Movement Trends\")"
   ]
  },
  {
   "cell_type": "markdown",
   "metadata": {},
   "source": [
    "### This graph illustrates the movement trends for all the categories for New Zealand. I smoothed out the data by getting the 14 day rolling mean to make it look clear. "
   ]
  },
  {
   "cell_type": "code",
   "execution_count": null,
   "metadata": {},
   "outputs": [],
   "source": [
    "rm = df_newzealand[[\"retail_&_recreation\", \"grocery_&_pharmacy\", \"parks\", \"transit_stations\", \"workplaces\", \"residential\"]].rolling(14).mean()  \n",
    "p = rm.plot(figsize=(12, 5), fontsize=13)\n",
    "p.set_xlabel(\"Date\",fontsize=13)\n",
    "p.set_ylabel(\"% Change from Baseline\",fontsize=13)\n",
    "p.set_title(\"Movement Trends\")"
   ]
  },
  {
   "cell_type": "markdown",
   "metadata": {},
   "source": [
    "This time series represents the footfall in all the places in New Zealand. We can see how when lockdown happened near the end of March, there was a decrease in the footfall in retail and recreation, transit stations, parks, wokrplaces and gorcery stores. We can see how the mobility in these places decreased while the footfall in residential places increased. This was due to only essential places staying open during lockdown and retaurants, retail places, places for people to go an enjoy were all closed. The enocuraged people to stay at home during lockdown. We can see that retail and recreation had the lowest mobility out of all the places and this happened during the month of April. We can see how when the restrictions started to ease in New Zealand that there were more people going to going out to shops, going to work and taking public transport. The mobility in residential areas was lower in the June, July and Auguast than it had been in March during full lockdwon. This evidently shows how people were still staying at home during this time adn taking precaustions. A lot of elderly people must have been staying indoors for their safety. During this time as well parks had the lowest mobility out of all the places. It was 40% below the baseline. In August, we can see a dip in the moblities for all the places in New Zealand, except for residential areas. There was an increase again in the mobility here. This must have been because, during this time, New Zealand had seen an increase in the number of covid cases, so the government advised people to stay at home when they could and to try and only make essential journeys. During this time in August, transit stations could see the least amount of people in these areas as people were probably avoiding taking public transport. After the month of August, we can see an increase in the mobilities in all the places except for residential areas, as at this time the covid cases were very low and New Zealand was going back to normal before covid days. We can see that the footfall for all the places were all very close together and near the baseline meaning that it was going back to normal, except for transit stations, which had a very low mobility and it was around 30% below the baseline. "
   ]
  },
  {
   "cell_type": "markdown",
   "metadata": {},
   "source": [
    "### This heatmap represents the correlation between all the different categories for New Zealand. "
   ]
  },
  {
   "cell_type": "code",
   "execution_count": null,
   "metadata": {},
   "outputs": [],
   "source": [
    "plt.rcParams['figure.figsize'] = (7,7) #creates a heatmap with a size of 7 by 7\n",
    "sns.heatmap(df_newzealand[[\"retail_&_recreation\", \"grocery_&_pharmacy\", \"parks\", \"transit_stations\", \"workplaces\", \"residential\"]].corr(), annot = True, cmap =\"BuPu\") # will contain data of confirmed, deaths, recovered and current cases \n",
    "plt.title('Heatmap for New Zealand')\n",
    "plt.show()"
   ]
  },
  {
   "cell_type": "code",
   "execution_count": null,
   "metadata": {},
   "outputs": [],
   "source": [
    "months = df_newzealand[[\"retail_&_recreation\", \"grocery_&_pharmacy\", \"residential\"]].resample(\"M\").mean()\n",
    "a = months.plot(figsize=(12,5),fontsize = 13)"
   ]
  },
  {
   "cell_type": "markdown",
   "metadata": {},
   "source": [
    "Quite clearly, residential areas has the greatest footfall out of the categories represented here. Grocery and pharmacy has the second highest as they were open during lockdown while retail and recreational has the third highest footfall, with its lowest mobility during the month of April and this was the same for gorcery and pharmacy shops as well. While residency saw its highest point during the month of April, as less people were going out and they were staying at home. "
   ]
  },
  {
   "cell_type": "code",
   "execution_count": null,
   "metadata": {},
   "outputs": [],
   "source": [
    "months = df_newzealand[[\"parks\", \"workplaces\", \"transit_stations\"]].resample(\"M\").mean()\n",
    "a = months.plot(figsize=(12,5),fontsize = 13)"
   ]
  },
  {
   "cell_type": "markdown",
   "metadata": {},
   "source": [
    "We can see how workplaces had the highest mobility compared to the other categories throughout the months. Transit stations was at its lowest in April. "
   ]
  },
  {
   "cell_type": "markdown",
   "metadata": {},
   "source": [
    "### Denmark "
   ]
  },
  {
   "cell_type": "code",
   "execution_count": null,
   "metadata": {},
   "outputs": [],
   "source": [
    "df_denmark = pd.read_csv(\"http://mlg.ucd.ie/modules/COMP30760/data/denmark.csv\", index_col='date', parse_dates = True)\n",
    "df_denmark"
   ]
  },
  {
   "cell_type": "code",
   "execution_count": null,
   "metadata": {},
   "outputs": [],
   "source": [
    "df_denmark = df_denmark.drop(['id', 'country'], axis=1)\n",
    "df_denmark"
   ]
  },
  {
   "cell_type": "code",
   "execution_count": null,
   "metadata": {},
   "outputs": [],
   "source": [
    "df_denmark = df_denmark.rename(columns={'retail_and_recreation_percent_change_from_baseline': 'retail_&_recreation'})\n",
    "df_denmark = df_denmark.rename(columns={'grocery_and_pharmacy_percent_change_from_baseline': 'grocery_&_pharmacy'})\n",
    "df_denmark = df_denmark.rename(columns={'parks_percent_change_from_baseline': 'parks'})\n",
    "df_denmark = df_denmark.rename(columns={'transit_stations_percent_change_from_baseline': 'transit_stations'})\n",
    "df_denmark = df_denmark.rename(columns={'workplaces_percent_change_from_baseline': 'workplaces'})\n",
    "df_denmark = df_denmark.rename(columns={'residential_percent_change_from_baseline': 'residential'})\n",
    "df_denmark"
   ]
  },
  {
   "cell_type": "markdown",
   "metadata": {},
   "source": [
    "### This graph represents the raw data for Denmark "
   ]
  },
  {
   "cell_type": "code",
   "execution_count": null,
   "metadata": {},
   "outputs": [],
   "source": [
    "a = df_denmark[[\"retail_&_recreation\", \"grocery_&_pharmacy\", \"parks\", \"transit_stations\", \"workplaces\", \"residential\"]]\n",
    "p = a.plot(figsize=(12, 5), fontsize=13)\n",
    "p.set_xlabel(\"Date\",fontsize=13)\n",
    "p.set_ylabel(\"% Change from Baseline\",fontsize=13)\n",
    "p.set_title(\"Movement Trends (Raw Data)\")"
   ]
  },
  {
   "cell_type": "markdown",
   "metadata": {},
   "source": [
    "### I'm analysing all the different categories. I smoothed out the data, by gettting the 7 day rolling mean and the 14 day rolling mean and graphed them with the raw data for that particular category as well. "
   ]
  },
  {
   "cell_type": "code",
   "execution_count": null,
   "metadata": {},
   "outputs": [],
   "source": [
    "rm1 = df_denmark[\"retail_&_recreation\"].rolling(7).mean()\n",
    "rm2 = df_denmark[\"retail_&_recreation\"].rolling(14).mean()\n",
    "raw_data = df_denmark[\"retail_&_recreation\"]\n",
    "a = rm1.plot(figsize=(12,5),fontsize = 13, color = \"darkturquoise\")\n",
    "b = rm2.plot(figsize=(12,5),fontsize = 13, color = \"palegreen\")\n",
    "c = raw_data.plot(figsize=(12,5),fontsize = 13, color = \"lightpink\")\n",
    "a.set_xlabel(\"Date\", fontsize =13)\n",
    "a.set_ylabel(\"% Change from Baseline - Retail & Recreation\", fontsize = 13)\n",
    "a.set_title(\"Retail & Recreation Movement Trends\")\n",
    "a.legend([\"7 Day Average\", \"14 Day Average\", \"Raw Data\"])"
   ]
  },
  {
   "cell_type": "markdown",
   "metadata": {},
   "source": [
    "This time series on the mobility of retail and recreational places in Denmark shows how the footfall in these places decreased by 50% in the month of March. The reason for this was due to the country lockdown that was put into effect on the 13th of March. During the lockdown, most businesses were closed. Essential shops such as grocery shops, pharamcies and other shops that were able to follow the social distancing guidlines were allowed to stay open. all educational facilites were closed. This was to ensure that the majority of the country would stay home home as much as possible. The lockdwon lasted a month and after the lockdown, places in Denmark started to open up in different phases.This is evident from the graph, as we can see in the middle of April, that there is a rise in the mobility in retail and recreational places. This is becauses small businesses such as hairdressers were allowed to open up again. This clealry encouraged more people to out. The mobility in these places kept increaseing until August, where we saw the peak mobility in Denmark. The footfall in retail and recreational places was at a high, it was 20% above the baseline meaning the that it was 20% busier that normal. This was because most things retail bsuiness and recreational places such as cinemas, galleries, gyms all were open at that time. We can see a slight drop in the mobility in August until September and then in September again. In October the government annoced to place curfews on restuanrants and bars. this is the reason for the decline in mobility in these places during this month. "
   ]
  },
  {
   "cell_type": "code",
   "execution_count": null,
   "metadata": {},
   "outputs": [],
   "source": [
    "rm1 = df_denmark[\"grocery_&_pharmacy\"].rolling(7).mean()\n",
    "rm2 = df_denmark[\"grocery_&_pharmacy\"].rolling(14).mean()\n",
    "raw_data = df_denmark[\"grocery_&_pharmacy\"]\n",
    "a = rm1.plot(figsize=(12,5),fontsize = 13, color = \"darkturquoise\")\n",
    "b = rm2.plot(figsize=(12,5),fontsize = 13, color = \"palegreen\")\n",
    "c = raw_data.plot(figsize=(12,5),fontsize = 13, color = \"lightpink\")\n",
    "a.set_xlabel(\"Date\", fontsize =13)\n",
    "a.set_ylabel(\"% Change from Baseline - Grocery & Pharmacy\", fontsize = 13)\n",
    "a.set_title(\"Grocery & Pharmacy Movement Trends\")\n",
    "a.legend([\"7 Day Average\", \"14 Day Average\", \"Raw Data\"])"
   ]
  },
  {
   "cell_type": "markdown",
   "metadata": {},
   "source": [
    "This time series demonstrates the movement trends of essential shops in Denmark. Grocery shops and pharmacies were allowed to stay open during the lockdown in Denmanrk. From the graph, we can see that that there was an increase in the footfall in thse shops by around 6% when the lockdown would have been just announced in March. People were clearly stocking up on items before going into lockdown. During the lockdown, the decrease in the mobility in these essential shops is visible, as the mobility decreased by more than 20%. This then quickly rose in the month of April, when lockdown had lifted and restrictions were beginning to ease. From the months April until August, the mobility during these months fluctuated a lot and was steady. We can seethat there was a decrease in the mobility in the month August and then again in September. This could be due to the number of increasing covid cases in Denmark, therefore people trying to avoid leaving their homes. "
   ]
  },
  {
   "cell_type": "code",
   "execution_count": null,
   "metadata": {},
   "outputs": [],
   "source": [
    "rm1 = df_denmark[\"parks\"].rolling(7).mean()\n",
    "rm2 = df_denmark[\"parks\"].rolling(14).mean()\n",
    "raw_data = df_denmark[\"parks\"]\n",
    "a = rm1.plot(figsize=(12,5),fontsize = 13, color = \"darkturquoise\")\n",
    "b = rm2.plot(figsize=(12,5),fontsize = 13, color = \"palegreen\")\n",
    "c = raw_data.plot(figsize=(12,5),fontsize = 13, color = \"lightpink\")\n",
    "a.set_xlabel(\"Date\", fontsize =13)\n",
    "a.set_ylabel(\"% Change from Baseline - Parks\", fontsize = 13)\n",
    "a.set_title(\"Parks Movement Trends\")\n",
    "a.legend([\"7 Day Average\", \"14 Day Average\", \"Raw Data\"])"
   ]
  },
  {
   "cell_type": "markdown",
   "metadata": {},
   "source": [
    "This time series details the mobility in parks in Denmark. We can see that around the time the lockdown was annonuced in Denmark, the mobility in these places was around 20%. During the period of lockdown, we can see that the mobility in these places increased significantly to around 140% above the baseline. This could be because of how during lockdown many businesses were closed except for essential businesses and the only thing that the people of Denmark were allowed do was to spend time outdoors freely and visit any open grounds enusring that there was social distancing taking place. There were not any strict restrictions in Denmark when going to outdoor areas. During the middle of August when lockdwon was over, the mobility in parks dropped by around 50% but it increased quite quickly afterwards again. We can see during the months from May until August, the footfall in parks was unpredictable as it was very inconsistent as the mobility would inlcine and reach a point and then decline straihgt after, but it was always above the basline. The highest the mobility had reached during this period was in July. It was just a little over 350% above the baseline. This shows that at this time, the mobility was very high, and a lot of people were out in these places beaices it was summer time as well. In August, the mobility decreased greatly by around 200%. This was a large decline in the mobility. THis could be due to the number of cases in Denmark rising at this time, so people were being more careful when leaving their homes. By the month of October, the mobility was very low compared to other months. It was just below 50%, as during this time the government brought in some restrictions to help contain the virus. "
   ]
  },
  {
   "cell_type": "code",
   "execution_count": null,
   "metadata": {},
   "outputs": [],
   "source": [
    "rm1 = df_denmark[\"transit_stations\"].rolling(7).mean()\n",
    "rm2 = df_denmark[\"transit_stations\"].rolling(14).mean()\n",
    "raw_data = df_denmark[\"transit_stations\"]\n",
    "a = rm1.plot(figsize=(12,5),fontsize = 13, color = \"darkturquoise\")\n",
    "b = rm2.plot(figsize=(12,5),fontsize = 13, color = \"palegreen\")\n",
    "c = raw_data.plot(figsize=(12,5),fontsize = 13, color = \"lightpink\")\n",
    "a.set_xlabel(\"Date\", fontsize =13)\n",
    "a.set_ylabel(\"% Change from Baseline - Transit Stations\", fontsize = 13)\n",
    "a.set_title(\"Transit Stations Movement Trends\")\n",
    "a.legend([\"7 Day Average\", \"14 Day Average\", \"Raw Data\"])"
   ]
  },
  {
   "cell_type": "markdown",
   "metadata": {},
   "source": [
    "This time series interprets the movement trends at transit stations. It is obvious that before when lockdown was annonuced in March, the mobility was normal, just around where the baseline is, but after lockdown was announced, this decreased dramtically by 60%. This was a large decline in the mobility in these areas. The reason for this would have been due to people not leaving their homes as much due to lockdown and they were avoiding taking public transport. People were trying to work at home as much as possible when they could, and schools and universites weren't open for students, so there was no need for students to take any forms of prublic transport. There was no need for people to leave their homes unless it was an essenital joruney or to visit oudoor areas. By the the time lockdown was over, we can see how the mobility in these areas began to increase. The highest the footfall at been at transit stations was in the month of August.  It was about 9% below the baseline. By this time everything was back open in Denmark. In April, You children were allowed to go abck to school and small businesses began to open back up. In early June, the government allowed there to be more physical presence in public workplaces. This would all mean that more people were taking were at train stations, bus stops etc, travelling to work and going to differnet places due to the ease in restrictions. While in August, univeristies were opening up agai. ALl of this had an affect on the footfall in tranist stations, as people in Denmark were trying to go back to normal, going back to work or school hence taking more public transport. This resulted in the increase in movement trends in these places. After August, the mobility was decreasing due to the incline in covid cases and the government bringing in a few restrictions to reduce the amount of people leaving their homes during the day.  "
   ]
  },
  {
   "cell_type": "code",
   "execution_count": null,
   "metadata": {},
   "outputs": [],
   "source": [
    "rm1 = df_denmark[\"workplaces\"].rolling(7).mean()\n",
    "rm2 = df_denmark[\"workplaces\"].rolling(14).mean()\n",
    "raw_data = df_denmark[\"workplaces\"]\n",
    "a = rm1.plot(figsize=(12,5),fontsize = 13, color = \"darkturquoise\")\n",
    "b = rm2.plot(figsize=(12,5),fontsize = 13, color = \"palegreen\")\n",
    "c = raw_data.plot(figsize=(12,5),fontsize = 13, color = \"lightpink\")\n",
    "a.set_xlabel(\"Date\", fontsize =13)\n",
    "a.set_ylabel(\"% Change from Baseline - Workplaces\", fontsize = 13)\n",
    "a.set_title(\"Workplaces Movement Trends\")\n",
    "a.legend([\"7 Day Average\", \"14 Day Average\", \"Raw Data\"])"
   ]
  },
  {
   "cell_type": "markdown",
   "metadata": {},
   "source": [
    "When the time lockdown was announced in Denmark, we can see a drop in the mobility in workplaces in Denmark. The lowesr the movement trneds had been was in April and it was about 60% below the baseline. During lockdown, all the offices and non essential businesses were closed and so people were working from home where they could. Only essential workers such as healthcare workers and people who worked in essential shops could go to work. We can see that when lockdwon was over in the middle of April, there's a rise in the mobility in workplaces. This is due to more shops opening up after lockdown as so people were called back into work. The higest the mobilty in workplaces had been was in June. during this time the footfall in the work enviornments was less than 10% below the basline. This is due to the gorvernment allowing people to go back to work in their offices instead of at home if they wished. The workplace organised whod go back to work and who would be able to stay home and work, so that the workplaces could follow social distnacing. Hence why the mobility is below the baseline during this time. We can see a dip in the mobility in July. This is the time most businesses close so that their employees can get their summer holidays. We can later see an increase in the mobilty after this. There was a sharp decrease by nearly 20% in the month of OCtober. The reason for this could be that due to the rising number of covid19 cases in Denmark, more poeple wpuld have decided to stay home and work to prevent them catching the virus and spreading it. But after this the footfall in workplaces quickly rose to just around 13% below the baseline.  "
   ]
  },
  {
   "cell_type": "code",
   "execution_count": null,
   "metadata": {},
   "outputs": [],
   "source": [
    "rm1 = df_denmark[\"residential\"].rolling(7).mean()\n",
    "rm2 = df_denmark[\"residential\"].rolling(14).mean()\n",
    "raw_data = df_denmark[\"residential\"]\n",
    "a = rm1.plot(figsize=(12,5),fontsize = 13, color = \"darkturquoise\")\n",
    "b = rm2.plot(figsize=(12,5),fontsize = 13, color = \"palegreen\")\n",
    "c = raw_data.plot(figsize=(12,5),fontsize = 13, color = \"lightpink\")\n",
    "a.set_xlabel(\"Date\", fontsize =13)\n",
    "a.set_ylabel(\"% Change from Baseline - Residential\", fontsize = 13)\n",
    "a.set_title(\"Residential Movement Trends\")\n",
    "a.legend([\"7 Day Average\", \"14 Day Average\", \"Raw Data\"])"
   ]
  },
  {
   "cell_type": "markdown",
   "metadata": {},
   "source": [
    "The last time series illustrates the movement trends in residential areas in Denmark. We can see that in March during lockdwon, the footfall in residential areas surged and rose to 16.5% above the baseline. There is no surprise of this due to people staying at home and helping to stop the spread the the virus. People were working from home, many businesses, schools and univeristies were all closed so ther was no need for people to leave their homes. They would only leave there homes to go outside for exercising and walks. When lockdown in Denmark was over and restricitons were bgininng to ease, we can see how the footfall in residential areas begins to decrease. People were leaving their homes more often, as businesses were opening back up so people were going to shops and restuanrants. Offices were opening up so some people could go back to work as well. From the time series, we can see that in July the mobility at reached the baseline which meant it was back to normal in Denmark and people weren't staying at home anymore and were out for most of the day. We can see that near the end of July, more people started to stay home as the mobility reached 5% above the baseline, and this again dropped quickly. August was the month where the footfall in these areas was at its lowest. The mobility was lower than the baseline, at around 0.1%. At this time, universities and schools began to open, all business were open and Denmark was trying hard to go back to normal. We can see that in Ocotber, the number of people staying at home increased. This is due to the number of covid cases rising in Denmark and therefore more people working from home and trying to stay home when they could. Also the governement introdcued a few reastrictions to encourage people to stay at home as well. "
   ]
  },
  {
   "cell_type": "markdown",
   "metadata": {},
   "source": [
    "### This graph describes the movement trends for all the categories for Denmark. I smoothed out the data by getting the 7 day rolling mean to make it look clear. "
   ]
  },
  {
   "cell_type": "code",
   "execution_count": null,
   "metadata": {
    "scrolled": true
   },
   "outputs": [],
   "source": [
    "rm = df_ireland[[\"retail_&_recreation\", \"grocery_&_pharmacy\", \"parks\", \"transit_stations\", \"workplaces\", \"residential\"]].rolling(7).mean()  \n",
    "p = rm.plot(figsize=(12, 5), fontsize=13)\n",
    "p.set_xlabel(\"Date\",fontsize=13)\n",
    "p.set_ylabel(\"% Change from Baseline\",fontsize=13)\n",
    "p.set_title(\"Movement Trends\")"
   ]
  },
  {
   "cell_type": "markdown",
   "metadata": {},
   "source": [
    "### This graph describes the movement trends for all the categories for Denmark. I smoothed out the data by getting the 14 day rolling mean to make it look clear. "
   ]
  },
  {
   "cell_type": "code",
   "execution_count": null,
   "metadata": {},
   "outputs": [],
   "source": [
    "rm = df_denmark[[\"retail_&_recreation\", \"grocery_&_pharmacy\", \"parks\", \"transit_stations\", \"workplaces\", \"residential\"]].rolling(14).mean()  \n",
    "p = rm.plot(figsize=(12, 5), fontsize=13)\n",
    "p.set_xlabel(\"Date\",fontsize=13)\n",
    "p.set_ylabel(\"% Change from Baseline\",fontsize=13)\n",
    "p.set_title(\"Movement Trends\")"
   ]
  },
  {
   "cell_type": "markdown",
   "metadata": {},
   "source": [
    "This line graph illustrates the mobilities of all the different places in Denmark. We know that lockdown occured in early March in Denmark. We can see that there is a decrease in the footfall in all the places except for residential areas and parks. Parks had the highest mobility out of all the places during every month. The reason for this could had been due to how the governement was letting people spend time outdoors freely without any restrictions. So as a result of this people were keen to leave they're homes during lockdown to spend time outside. The second highest mobility is residential areas. This is obvious as most places in Denmark were closed during lockdown such as non-essential retail shops, schools, offices. We can see that during lockdown, transit stations had the lowest mobility as most people would have been avoiding taking public transport to avoid catching the virus and many people didnt need to go anywhere unless it was to the grocery shops or to make other essential journeys. When lockdown was over in April, we can see how the mobility in residential areas was decreasing while the mobilty in all the other places was increasing, as more people were going out as restaurants and shops were all open, some people were back working in the offices and over time in the month of July, retail and recreation had the second highest mobility after parks and workplaces had the lowest at this time as this when people were on their summer holidays. Parks had a high mobility as people must have been spending less time indoors and visiting open areas so that they could have social distanced meet-ups. This was also the summer time which also motivated people to spend more time outside. We can see that in the month of October, theres a decrease in retail and recreational places as the government advised people to reduce their time outdoors due to the increase in the number of covid cases abd so brought in curfews and restrictions. We can also see a drop in the moblity in workplaces as offices would have advised people to work from home to help stop the spread of the virus. We can see from the graph, that the movement trends for all the places except for parks in October were very close to the baseline or sightly above the baseline. This also meant that places in Denmark were trying to operate as normal, and it was as busy as it used to be before the lockdown in March. Even though the cases were increasing at this time, people in Denmark were trying to live their life how it was before covid. We can see the decrease in parks in Ocotber, due to colder months, but it was still well above the baseline, by a little under 50%. Transit stations had the least mobility in Denmark in October. it was around 25% below the baseline as this time. "
   ]
  },
  {
   "cell_type": "markdown",
   "metadata": {},
   "source": [
    "### This heatmap decribes the correaltion between all the different categories in Denmark. "
   ]
  },
  {
   "cell_type": "code",
   "execution_count": null,
   "metadata": {},
   "outputs": [],
   "source": [
    "plt.rcParams['figure.figsize'] = (7,7) #creates a heatmap with a size of 7 by 7\n",
    "sns.heatmap(df_denmark[[\"retail_&_recreation\", \"grocery_&_pharmacy\", \"parks\", \"transit_stations\", \"workplaces\", \"residential\"]].corr(), annot = True, cmap =\"BuPu\") # will contain data of confirmed, deaths, recovered and current cases \n",
    "plt.title('Heatmap for Denmark')\n",
    "plt.show()"
   ]
  },
  {
   "cell_type": "code",
   "execution_count": null,
   "metadata": {},
   "outputs": [],
   "source": [
    "months = df_denmark[[\"retail_&_recreation\", \"grocery_&_pharmacy\", \"residential\"]].resample(\"M\").mean()\n",
    "a = months.plot(figsize=(12,5),fontsize = 13)"
   ]
  },
  {
   "cell_type": "markdown",
   "metadata": {},
   "source": [
    "It is interesting to see how first retail and residential had the lowest movement trends from March until May, but quickly rose and had the highest mobility from June until September. "
   ]
  },
  {
   "cell_type": "code",
   "execution_count": null,
   "metadata": {},
   "outputs": [],
   "source": [
    "months = df_denmark[[\"parks\", \"workplaces\", \"transit_stations\"]].resample(\"M\").mean()\n",
    "a = months.plot(figsize=(12,5),fontsize = 13)"
   ]
  },
  {
   "cell_type": "markdown",
   "metadata": {},
   "source": [
    "It is obvious that parks has the highest mobility by far comapred to workplaces and transit stations. worokplaces and transit stations have very similar mobilites throughout the months. "
   ]
  },
  {
   "cell_type": "markdown",
   "metadata": {},
   "source": [
    "## Task 2 - I will be comparing all three countries : \n",
    "### I am first going to focus on comparing each category for all the different countries. "
   ]
  },
  {
   "cell_type": "code",
   "execution_count": null,
   "metadata": {},
   "outputs": [],
   "source": [
    "rm1 = df_ireland[\"retail_&_recreation\"].rolling(14).mean()\n",
    "rm2 = df_newzealand[\"retail_&_recreation\"].rolling(14).mean()\n",
    "rm3 = df_denmark[\"retail_&_recreation\"].rolling(14).mean()\n",
    "a = rm1.plot(figsize=(12,5),fontsize = 13, color = \"plum\")\n",
    "b = rm2.plot(figsize=(12,5),fontsize = 13, color = \"mediumspringgreen\")\n",
    "c = rm3.plot(figsize=(12,5),fontsize = 13, color = \"lightsalmon\")\n",
    "a.set_xlabel(\"Date\", fontsize =13)\n",
    "a.set_ylabel(\"% Change from Baseline - Retail and Recreation\", fontsize = 13)\n",
    "a.set_title(\"Retail and Recreation Movement Trends\")\n",
    "a.legend([\"Ireland\", \"New Zealand\", \"Denmark\"])"
   ]
  },
  {
   "cell_type": "markdown",
   "metadata": {},
   "source": [
    "From this time series, we are comparing the mobility in retail and recreation in the three countries, Ireland, New Zealand and Denmark. As we know lockdown for all three of these countries was announced during the month of March. This is obvious, as we can see how the mobility decreases for each country. Out of all the three countries, NEw Zeland's retaila dn recreation had the lowest movement trends. It was 90% below the baseline, followed by Ireland with a mobility of 80% below the baseline and the Denmark with a mobiltiy of nealry 40% below the baseline around March-April time.  For each country after lockdown, their mobilities rapidly increased from May until August. During those months, New Zealand's mobility in these places was greater than Irelands, but Denmark had the higest mobility in these places, nearly 20% above the baseline. This was very high in comparison to Ireland and New Zealand. For a period in August tho we can see that the mobility for New Zealand is lower than Ireland's as this was a time when the number of covid cases were rising in New Zealand and so the government placed some restrictions to help. We can see that coming to the month of Ocotber that Irelands mobility dropped again due to lockdown occuring again in the country, while New Zealand's mobility was increasing as the number of covid cases was low there and so shops and retail places could open back up. We can see that near the end of October, Denmark's mobility was lower than New Zealands, as Denmark's government also placed some restrictions to help stop the spread of the virus. It is interestin to see how Denmark's mobility in these places was very high compared to New Zealand and Ireland. It could be that even non-essential shops adn restaurants must have been still been open in Denmark so people were still going there. "
   ]
  },
  {
   "cell_type": "code",
   "execution_count": null,
   "metadata": {},
   "outputs": [],
   "source": [
    "rm1 = df_ireland[\"grocery_&_pharmacy\"].rolling(14).mean()\n",
    "rm2 = df_newzealand[\"grocery_&_pharmacy\"].rolling(14).mean()\n",
    "rm3 = df_denmark[\"grocery_&_pharmacy\"].rolling(14).mean()\n",
    "a = rm1.plot(figsize=(12,5),fontsize = 13, color = \"plum\")\n",
    "b = rm2.plot(figsize=(12,5),fontsize = 13, color = \"mediumspringgreen\")\n",
    "c = rm3.plot(figsize=(12,5),fontsize = 13, color = \"lightsalmon\")\n",
    "a.set_xlabel(\"Date\", fontsize =13)\n",
    "a.set_ylabel(\"% Change from Baseline - Grocery and Pharmacy\", fontsize = 13)\n",
    "a.set_title(\"Grocery and Pharmacy Movement Trends\")\n",
    "a.legend([\"Ireland\", \"New Zealand\", \"Denmark\"])"
   ]
  },
  {
   "cell_type": "markdown",
   "metadata": {},
   "source": [
    "This graph represents the mobility in grocery shops and pharamcies in the three countries. We can see that in the first half of the month of March, Ireland had the highest mobility, more than 10% above the baseline, in these places and once lockdown happened it decreased rapidly, while towards the end of March when lockdown happened in New Zealand, it was also more than 10% above the baseline and then decreased sharply, while in Denmark, the mobility in essential shops increased a little bit, just to the baseline and decreased. We can see from the graph that New Zealand had the lowest mobility out of all the countries in April, followed by Ireland and then Denmark. This showed that people in New Zealand weren't leaving their houses as much to go to essential shops as people in Ireland or in Denmark were. Even when lockdown was over in New Zealand, it still had a very low mobility compared to the two other countries. We can see during the months of August, September, October that the mobility in Denmark is lower than in Ireland and by the end of October the mobility in New Zealand looks like it is the highest out of all the countures, as at this stage, New Zealand is back to normal, while Ireland and Denmark have a high number of covid cases. New Zealand's mobility near reached the baseline while Denmark's and Ireland's line graphs reached above the basline during certain months. "
   ]
  },
  {
   "cell_type": "code",
   "execution_count": null,
   "metadata": {},
   "outputs": [],
   "source": [
    "rm1 = df_ireland[\"parks\"].rolling(14).mean()\n",
    "rm2 = df_newzealand[\"parks\"].rolling(14).mean()\n",
    "rm3 = df_denmark[\"parks\"].rolling(14).mean()\n",
    "a = rm1.plot(figsize=(12,5),fontsize = 13, color = \"plum\")\n",
    "b = rm2.plot(figsize=(12,5),fontsize = 13, color = \"mediumspringgreen\")\n",
    "c = rm3.plot(figsize=(12,5),fontsize = 13, color = \"lightsalmon\")\n",
    "a.set_xlabel(\"Date\", fontsize =13)\n",
    "a.set_ylabel(\"% Change from Baseline - Parks\", fontsize = 13)\n",
    "a.set_title(\"Parks Movement Trends\")\n",
    "a.legend([\"Ireland\", \"New Zealand\", \"Denmark\"])"
   ]
  },
  {
   "cell_type": "markdown",
   "metadata": {},
   "source": [
    "The grpah shows the mobility in parks for the three countries. It is evident to us that throughout the months, New Zealand had the lowest mobility compared to the other countries, then followed by Ireland and lastly Denmark. Druing the time of lockdown in these countures, we can see that the mobility in parks decreased in both New Zealand and Ireland, but the mobility in these places increased in Denmark. In Denmark, people were allowed to go outside freely without any restrictions, where as in Ireland and New Zealand, it was much stricter for the people living there. New Zealand's mobility never reached the baseline, which showed that the footfall here didnt go back to normal, except for in Ocotober where it finally reached the baseline as things were going back to normal in New Zealand. Ireland's mobility was higher in the summer months, but Denmark's mobility was the greatest as it more than 200% greater than Irelands mobility. This shows that the parks during these months was the businest in Denmark out of the other countries. It showed that people wanted to get out more in Denmark in comparison to the other countries even during lockdown. "
   ]
  },
  {
   "cell_type": "code",
   "execution_count": null,
   "metadata": {},
   "outputs": [],
   "source": [
    "rm1 = df_ireland[\"transit_stations\"].rolling(14).mean()\n",
    "rm2 = df_newzealand[\"transit_stations\"].rolling(14).mean()\n",
    "rm3 = df_denmark[\"transit_stations\"].rolling(14).mean()\n",
    "a = rm1.plot(figsize=(12,5),fontsize = 13, color = \"plum\")\n",
    "b = rm2.plot(figsize=(12,5),fontsize = 13, color = \"mediumspringgreen\")\n",
    "c = rm3.plot(figsize=(12,5),fontsize = 13, color = \"lightsalmon\")\n",
    "a.set_xlabel(\"Date\", fontsize =13)\n",
    "a.set_ylabel(\"% Change from Baseline - Transit Stations\", fontsize = 13)\n",
    "a.set_title(\"Transit Stations Movement Trends\")\n",
    "a.legend([\"Ireland\", \"New Zealand\", \"Denmark\"])"
   ]
  },
  {
   "cell_type": "markdown",
   "metadata": {},
   "source": [
    "This above graph represents the transit stations. We can see that all three countries mobilites decreased sharply during the time of lockdown as people were avoiding taking public transport and weren't travelling to work or school. New Zealand had the lowest mobililty during the month of April. After this was Ireland's mobility and Denmark had the higest mobilty. It is obvious that in April, Ireland's mobilty was quite close to New Zealand's mobility, around a 10% difference, but Denmark's was around 25% higher than New Zealand's mobility. The reason for this could be that this was the time that Denmark was coming out of lockdown, so people must have started travellling to work or going out more. We can see that overall, Denmark had the highest mobility during most of the months. We can see that none of the countires reached the baseline for transit stations, as people were trying to avoid taking public transport as much as possible during this time. We can see during the month of October, Ireland then had the lowest mobility as the country went into lockdown during this time, Denmarks was decreasing as well,  while New Zealand's transit station mobility was rising."
   ]
  },
  {
   "cell_type": "code",
   "execution_count": null,
   "metadata": {},
   "outputs": [],
   "source": [
    "rm1 = df_ireland[\"workplaces\"].rolling(14).mean()\n",
    "rm2 = df_newzealand[\"workplaces\"].rolling(14).mean()\n",
    "rm3 = df_denmark[\"workplaces\"].rolling(14).mean()\n",
    "a = rm1.plot(figsize=(12,5),fontsize = 13, color = \"plum\")\n",
    "b = rm2.plot(figsize=(12,5),fontsize = 13, color = \"mediumspringgreen\")\n",
    "c = rm3.plot(figsize=(12,5),fontsize = 13, color = \"lightsalmon\")\n",
    "a.set_xlabel(\"Date\", fontsize =13)\n",
    "a.set_ylabel(\"% Change from Baseline - Workplaces\", fontsize = 13)\n",
    "a.set_title(\"Workplaces Movement Trends\")\n",
    "a.legend([\"Ireland\", \"New Zealand\", \"Denmark\"])"
   ]
  },
  {
   "cell_type": "markdown",
   "metadata": {},
   "source": [
    "We can see from the graph that during the time of lockdown, New Zealand had the lowest footfall in the workplace, followed by Ireland and then New Zealand. This must have meant that people in Denmark who worked in non essential businessed were open and going to work, while only healthcare workers and staff working in essential businesses were allowed to go to work in New Zealand and Ireland. We can see when lockdwon was over in New Zealand and restriction were being eased that New Zelanad than had the highest mobilty from the months of June until October. This was due to lower covid cases in New Zealand and so people were allowed to go back to work. Denmark had the second highest mobilty in workplaces during these months as well excpet for in July. The mobility was low here as people were going on their summer hoidays in Denmark and so Ireland's mobility surpassed Denmark' during this time. when locdown was over for all the countures, it is evident that the mobility in Irelands was the lowest, this was because the government was really pushing the idea that people work from home where they could, whereas in New Zeland and Denmark, their governments were ready to let people go back to work. This is why Ireland's mobilty in workplaces never reached the baseline but it did for New Zealand and Denmark. "
   ]
  },
  {
   "cell_type": "code",
   "execution_count": null,
   "metadata": {},
   "outputs": [],
   "source": [
    "rm1 = df_ireland[\"residential\"].rolling(14).mean()\n",
    "rm2 = df_newzealand[\"residential\"].rolling(14).mean()\n",
    "rm3 = df_denmark[\"residential\"].rolling(14).mean()\n",
    "a = rm1.plot(figsize=(12,5),fontsize = 13, color = \"plum\")\n",
    "b = rm2.plot(figsize=(12,5),fontsize = 13, color = \"mediumspringgreen\")\n",
    "c = rm3.plot(figsize=(12,5),fontsize = 13, color = \"lightsalmon\")\n",
    "a.set_xlabel(\"Date\", fontsize =13)\n",
    "a.set_ylabel(\"% Change from Baseline - Residential\", fontsize = 13)\n",
    "a.set_title(\"Residential Movement Trends\")\n",
    "a.legend([\"Ireland\", \"New Zealand\", \"Denmark\"])"
   ]
  },
  {
   "cell_type": "markdown",
   "metadata": {},
   "source": [
    "This graph represents the residential mobilty in the countries. We can see that New Zealand had the most people staying at home during the time of lockdown. The populations for all of these countires are quite similar, so that doesnt have an affect on this. We can see that Denmark had the lowest mobilty in residential areas. This could be bacause of people still going to work and the restrictions in Denmark not as strict as in New Zealand and Ireland. We can see that during the months of May until August, Ireland then had the highest mobility in these places. During this time, the restrictions in Ireland had eased, but the government was still advising people to stay at home as much as possible and encouraged people to work from home even though lockdown was over. We can see that Denmark had the lowest mobility excpet for in October, where it surpassed New Zealands mobilty for residential areas, due to the high number of covid cases there and so Denmark's government brought in a few restrictions. We can see that in Ireland the mobilty in October was increasing quikly due to the lockdown that was happening in the country. "
   ]
  },
  {
   "cell_type": "markdown",
   "metadata": {},
   "source": [
    "### I will now be analysing the overall movement trends in the three countries "
   ]
  },
  {
   "cell_type": "code",
   "execution_count": null,
   "metadata": {},
   "outputs": [],
   "source": [
    "overall_ireland = df_ireland.mean(axis=1)\n",
    "overall_ireland"
   ]
  },
  {
   "cell_type": "code",
   "execution_count": null,
   "metadata": {},
   "outputs": [],
   "source": [
    "p = overall_ireland.plot(figsize=(12, 5), fontsize=13, color=\"violet\")\n",
    "p.set_xlabel(\"Date\",fontsize=13)\n",
    "p.set_ylabel(\"% Change from Baseline\",fontsize=13)\n",
    "p.set_title(\"Overall Movement Trend in Ireland\")"
   ]
  },
  {
   "cell_type": "markdown",
   "metadata": {},
   "source": [
    "This time series represents the overall movement trend in Ireland during the last few months. We can see that in the month of March, the movement trends here dropped dramatically due to lockdown in the country. People didn't have much to do either than staying at home or go to essential shops when necessary. The mobility in the country dropped by around 50% below the baseline in March. We can see that the lowest the the movement trends in Ireland had been was in April, where it decreased to nearly 60% below the baseline. After this we can see that the movement trends started to rise until the month of August. This was due to lockdown being over and people being able to go places again, and sp the movement trends in Ireland reached more than 10% above the baseline in the month of August. This meant that places in Irreland were busy and that people were out in Dublin trying to go about as normal. From the months of September until October, we can see a decrease in the movement trends. This would have been due to the rising number of cases in Ireland, so poeple were more reluctant to leave their homes. We can see be October that the mobility in Ireland was around 30% below baseline. "
   ]
  },
  {
   "cell_type": "code",
   "execution_count": null,
   "metadata": {},
   "outputs": [],
   "source": [
    "overall_newzealand = df_newzealand.mean(axis=1)\n",
    "overall_newzealand"
   ]
  },
  {
   "cell_type": "code",
   "execution_count": null,
   "metadata": {},
   "outputs": [],
   "source": [
    "p = overall_newzealand.plot(figsize=(12, 5), fontsize=13, color=\"deepskyblue\")\n",
    "p.set_xlabel(\"Date\",fontsize=13)\n",
    "p.set_ylabel(\"% Change from Baseline\",fontsize=13)\n",
    "p.set_title(\"Overall Movement Trend in New Zealand\")"
   ]
  },
  {
   "cell_type": "markdown",
   "metadata": {},
   "source": [
    "This time series is the average movement trend in New Zealand. We can see that when lockdown was annouced here in March, the mobility in places in New Zealand dramatically decreased. By March it was 60% below the baseline. People were staying home, not going places to stop the pread of the viurs. The month of April had see the lowest movement trends as it was nearly 70% below the basweline. But shortly after this, the movement trend started to incline as shops and businesses began to open and poeple began to go out more apart from going to the essential shops. Be August, the movment trend was at its highest. It was very close to the baseline, meaning that things were starting to go back to normal in New Zealand. After the month of August, we can see a decrease due to increasing number of cases in New Zealand, hence the goverment bringing in restrictions because of this to encourage people to stay at home when they could. In the months of September and October, we can see that the movement trend begins to rise again and it looks like things were looking good for New Zealand and they were fighting hard to go back to normal. Around October we can see that the movement trend is around the baseline. "
   ]
  },
  {
   "cell_type": "code",
   "execution_count": null,
   "metadata": {},
   "outputs": [],
   "source": [
    "overall_denmark = df_denmark.mean(axis=1)\n",
    "overall_denmark"
   ]
  },
  {
   "cell_type": "code",
   "execution_count": null,
   "metadata": {},
   "outputs": [],
   "source": [
    "p = overall_denmark.plot(figsize=(12, 5), fontsize=13, color=\"salmon\")\n",
    "p.set_xlabel(\"Date\",fontsize=13)\n",
    "p.set_ylabel(\"% Change from Baseline\",fontsize=13)\n",
    "p.set_title(\"Overall Movement Trend in Denmark\")"
   ]
  },
  {
   "cell_type": "markdown",
   "metadata": {},
   "source": [
    "Lastly, the time series for the average movement trend in Denmark shows us that, during the month of March, the movement trends here decreased by more than 20%. This was the lowest the movement trend had been in Denmark. We can see that after March, the movement trends slowly started to rise steadily until July, as shops businesses and other places in Denmark began to open up. In July, the movement trend was at its highest. It was more than 60% above the baseline. This indicated that things in Denmark seemed like it was back to normal, as people were going out and retail places, parks etc all were very busy and had a high footfall during this time. After the month of July, we can see the decrease in the movement trends until the month of October. This was due to the incline in the number of cases in Denmark and so the government of Denmark introducing a few restrictions in order to slow down the spread of the virus. We can see by the month of October that the movement trend had fallen below the baseline, telling us that people were only leaving the house if they had to and that they were trying to reduce their time outdoors. The working people in Denmark must have also started working from home to prevent them leaving the house when it wasn't necessary. "
   ]
  },
  {
   "cell_type": "code",
   "execution_count": null,
   "metadata": {},
   "outputs": [],
   "source": [
    "p = overall_ireland.plot(figsize=(12, 5), fontsize=13, color=\"violet\")\n",
    "q = overall_newzealand.plot(figsize=(12, 5), fontsize=13, color=\"deepskyblue\")\n",
    "r = overall_denmark.plot(figsize=(12, 5), fontsize=13, color=\"salmon\")\n",
    "p.set_xlabel(\"Date\",fontsize=13)\n",
    "p.set_ylabel(\"% Change from Baseline\",fontsize=13)\n",
    "p.set_title(\"Overall Movement Trends in Ireland, New Zealand and Denmark\")\n",
    "p.legend([\"Ireland\", \"New Zealand\", \"Denmark\"])"
   ]
  },
  {
   "cell_type": "markdown",
   "metadata": {},
   "source": [
    "This time series describes the average movement trends for the three countires. It is evident that Ireland and New Zealand both have a similar movement trends, but Denmark's looks different. We can see that Ireland and New Zealand both had a decline in the movement trends during the month of March and April. New Zealand did have a lower average movement trend than Ireland in the month of April and May, but it was very close to Ireland's. The two countries movement trends rise after the month of May until the end of July where there's a slight decrease. We can see that after July, Ireland's movement trend decreases until October, but New Zealand's increases instead. Denmark's movement trend is totally different. During the period of lockdown, we can see that the mobility in Denmark was still quite high compared to both Ireland and New Zealand. THe movement trend in Denmark was about 40% higher in Denmark than in Ireland during the end of March. This meant that people were still going out to places in Denmark and that the lockdown must not have been very strict in comparison to the other two countries. We can see that after the month of March, Denmark's movement trend increases until August. It is way higher on the graph compared to Ireland and New Zealand's average movement trend graph, around 50% higher than Ireland's movement trend in the middle of July. Denmark's trend then decreases after August when the number of cases start to increase in Denmark. By October time, we can see that it was slightly above New Zealand's movement trend. \n",
    "\n",
    "The high mobility in Denmark could have been due to the goverment easing restrictions too quickly in the year allowing people to leave their homes. The government enocuraged people to go back to work, but in Ireland the government advised people to work from home. Also in Denmark, it could have meant that during the lockdown in March that shops and other places that were non essential in Denmark could have remained open, whereas in Ireland and New Zealand, these places were closed. Denmark was also one of the first countries to go into lockdwon in Europe, so the gorvernment must have not known how to go about the lockdown and what places should stay closed and what should remain open. This meant that people were inclined to leave their homes more during lockdown as  they knew that places excluding essential businesses were still open. I think that could be the reason for the high movement trends in Denmark, compared to Ireland and New Zealand. "
   ]
  }
 ],
 "metadata": {
  "kernelspec": {
   "display_name": "Python 3",
   "language": "python",
   "name": "python3"
  },
  "language_info": {
   "codemirror_mode": {
    "name": "ipython",
    "version": 3
   },
   "file_extension": ".py",
   "mimetype": "text/x-python",
   "name": "python",
   "nbconvert_exporter": "python",
   "pygments_lexer": "ipython3",
   "version": "3.8.3"
  }
 },
 "nbformat": 4,
 "nbformat_minor": 4
}
